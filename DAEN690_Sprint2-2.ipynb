{
 "cells": [
  {
   "cell_type": "code",
   "execution_count": 1,
   "id": "b62ac769",
   "metadata": {},
   "outputs": [],
   "source": [
    "import pandas as pd\n",
    "import re\n",
    "import numpy as np\n",
    "import math\n",
    "from math import log, log10"
   ]
  },
  {
   "cell_type": "code",
   "execution_count": null,
   "id": "fc9ff070",
   "metadata": {},
   "outputs": [],
   "source": []
  },
  {
   "cell_type": "code",
   "execution_count": 2,
   "id": "8b2696d3",
   "metadata": {},
   "outputs": [],
   "source": [
    "#!pip install plotly"
   ]
  },
  {
   "cell_type": "code",
   "execution_count": 3,
   "id": "47f1ec5a",
   "metadata": {},
   "outputs": [],
   "source": [
    "import seaborn as sns\n",
    "import matplotlib.pyplot as plt"
   ]
  },
  {
   "cell_type": "code",
   "execution_count": 4,
   "id": "32fe89b1",
   "metadata": {},
   "outputs": [],
   "source": [
    "#!unzip \"USM00072403-data.txt.zip\""
   ]
  },
  {
   "cell_type": "code",
   "execution_count": 5,
   "id": "7edd04d0",
   "metadata": {},
   "outputs": [],
   "source": [
    "station_codes = {'SPOKANE': 'USM00072786', 'QUILLAYUTE': 'USM00072797', 'MIRAMAR': 'USM00072293',\n",
    "                'EDWARDS AFB': 'USM00072381', 'OAKLAND':'USM00072493', 'STERLING':'USM00072403'}"
   ]
  },
  {
   "cell_type": "code",
   "execution_count": 6,
   "id": "89b7038f",
   "metadata": {},
   "outputs": [],
   "source": [
    "def record_reading(lines):\n",
    "    records = []\n",
    "    for line in lines:\n",
    "        if line[0]==\"#\":\n",
    "            s = line.split(\" \")\n",
    "            y,d,m,h = s[1], s[2], s[3], s[4]\n",
    "        else:\n",
    "            if y in ['2022', '2023']:\n",
    "                date = \" \".join([y,d,m])\n",
    "                hour = h\n",
    "                data = [0]*13\n",
    "                line = re.sub(' +',' ',line)\n",
    "                #print(line)\n",
    "                r = line.split(\" \")\n",
    "                #print(r)\n",
    "                if len(r) <= 8:\n",
    "                    continue\n",
    "                #break\n",
    "                data[0], data[1] = r[0][0], r[0][1]\n",
    "                data[2] = r[1]\n",
    "                data[3], data[4] = (r[2][:-1], r[2][-1])  if r[2] and r[2][-1] in ['A', 'B'] else (r[2], np.nan)\n",
    "                data[5], data[6] = (r[3][:-1], r[3][-1])  if r[3] and r[3][-1] in ['A', 'B'] else (r[3], np.nan)\n",
    "                data[7], data[8] = (r[4][:-1], r[4][-1])  if r[4] and r[4][-1] in ['A', 'B'] else (r[4], np.nan)\n",
    "                data[9] = r[5] if r[5] else np.nan\n",
    "                data[10] = r[6] if r[6] else np.nan\n",
    "                data[11] = r[7] if r[7] else np.nan\n",
    "                data[12] = r[8] if r[8] else np.nan\n",
    "                l = []\n",
    "                l.append(date)\n",
    "                l.append(hour)\n",
    "                l.extend(data)\n",
    "                records.append(l)\n",
    "    return records\n"
   ]
  },
  {
   "cell_type": "code",
   "execution_count": 7,
   "id": "9830b645",
   "metadata": {},
   "outputs": [],
   "source": [
    "def data_loading(station_name):\n",
    "    file = open(station_codes[station_name]+\"-data.txt\", 'r')\n",
    "    lines = file.readlines()\n",
    "    records = record_reading(lines)\n",
    "    header = ['Date', 'Hour','LVLTYP1', 'LVLTYP2', 'ETIME', 'PRESS', 'PFLAG', 'GPH', 'ZFLAG', 'TEMP', 'TFLAG', 'RH', 'DPDP', 'WDIR', 'WSPD']\n",
    "    df = pd.DataFrame(records , columns= header)\n",
    "    return df"
   ]
  },
  {
   "cell_type": "code",
   "execution_count": 8,
   "id": "8cd1e97c",
   "metadata": {},
   "outputs": [],
   "source": [
    "def preprocess():\n",
    "    df.replace('-9999', np.nan, inplace=True)\n",
    "    df.replace('-8888', np.nan, inplace=True)\n",
    "    pattern = r'[^-0-9]'\n",
    "    df['TEMP'] = df['TEMP'].replace({pattern: np.nan}, regex=True)\n",
    "    df['TEMP'].replace('', np.nan, inplace=True)\n",
    "    df['TEMP'] = pd.to_numeric(df['TEMP'], errors='coerce')\n",
    "    pattern = r'[^-0-9]'\n",
    "    df['PRESS'] = df['PRESS'].replace({pattern: np.nan}, regex=True)\n",
    "    df['PRESS'].replace('', np.nan, inplace=True)\n",
    "    df['PRESS'] = pd.to_numeric(df['PRESS'], errors='coerce')\n",
    "    \n",
    "    df['GPH'] = df['GPH'].replace({pattern: np.nan}, regex=True)\n",
    "    df['GPH'].replace('', np.nan, inplace=True)\n",
    "    df['GPH'] = pd.to_numeric(df['GPH'], errors='coerce')\n",
    "    \n",
    "    df['DPDP'] = df['DPDP'].replace({pattern: np.nan}, regex=True)\n",
    "    df['DPDP'].replace('', np.nan, inplace=True)\n",
    "    df['DPDP'] = pd.to_numeric(df['DPDP'], errors='coerce')\n",
    "    \n",
    "    df['WDIR'] = df['WDIR'].replace({pattern: np.nan}, regex=True)\n",
    "    df['WDIR'].replace('', np.nan, inplace=True)\n",
    "    df['WDIR'] = pd.to_numeric(df['WDIR'], errors='coerce')\n",
    "    \n",
    "    df['WSPD'] = df['WSPD'].replace({pattern: np.nan}, regex=True)\n",
    "    df['WSPD'].replace('', np.nan, inplace=True)\n",
    "    df['WSPD'] = pd.to_numeric(df['WSPD'], errors='coerce')\n",
    "    \n",
    "        "
   ]
  },
  {
   "cell_type": "code",
   "execution_count": 9,
   "id": "43ce9bf4",
   "metadata": {},
   "outputs": [],
   "source": [
    "def convert_RH(RH_water, T):\n",
    "#     e_w = 6.112 * math.exp((17.67 * T) / (T + 243.5))\n",
    "#     e_i = 6.112 * math.exp((22.46 * T) / (T + 272))\n",
    "#     RH_ice = (e_w/e_i)*RH_water\n",
    "    \n",
    "#     return RH_ice\n",
    "        est = 1013.25 #hpa\n",
    "        eio = 6.1173 #hpa\n",
    "        e_w = -7.90298*((372.15/T)-1) + (5.02808)*log10((372.15/T)) - (1.3816* math.pow(10, -7))*(math.pow(10, 11.344*(1-(T/372.15)))-1) \\\n",
    "        + (8.1328 * math.pow(10, -3))*(math.pow(10, -3.49149*((372.15/T)-1)-1)) + log10(est)\n",
    "\n",
    "        ew = math.pow(10,e_w)\n",
    "        e_i = -9.09718*((273.16/T)-1) - (3.56654 * log10(273.16/T)) + 0.876793*(1-(T/273.16)) + log10(eio)\n",
    "        ei = math.pow(10,e_i)\n",
    "        \n",
    "        return (ew/ei)*RH_water\n",
    "    "
   ]
  },
  {
   "cell_type": "code",
   "execution_count": 10,
   "id": "a7e751bd",
   "metadata": {},
   "outputs": [],
   "source": [
    "def process_convention():\n",
    "    df['RH'] = df['RH'].astype(float)/10.0\n",
    "    df['TEMP'] = df['TEMP'].astype(float)/10.0\n",
    "    df['GPH'] = df['GPH'].fillna(0)\n",
    "    df['GPH'] = df['GPH'].astype(int)\n",
    "    df['DPDP'] = df['DPDP'].fillna(0.0)\n",
    "    df['DPDP'] = df['DPDP'].astype(float)/10.0\n",
    "    df['WDIR'] = df['WDIR'].fillna(0.0)\n",
    "    df['WDIR'] = df['WDIR'].astype(float)/10.0\n",
    "    df['WSPD'] = df['WSPD'].fillna(0.0)\n",
    "    df['WSPD'] = df['WSPD'].astype(float)/10.0\n",
    "    "
   ]
  },
  {
   "cell_type": "code",
   "execution_count": 11,
   "id": "2097f2cb",
   "metadata": {},
   "outputs": [],
   "source": [
    "station_name = 'SPOKANE'"
   ]
  },
  {
   "cell_type": "code",
   "execution_count": 12,
   "id": "9a7b5296",
   "metadata": {},
   "outputs": [
    {
     "data": {
      "text/html": [
       "<div>\n",
       "<style scoped>\n",
       "    .dataframe tbody tr th:only-of-type {\n",
       "        vertical-align: middle;\n",
       "    }\n",
       "\n",
       "    .dataframe tbody tr th {\n",
       "        vertical-align: top;\n",
       "    }\n",
       "\n",
       "    .dataframe thead th {\n",
       "        text-align: right;\n",
       "    }\n",
       "</style>\n",
       "<table border=\"1\" class=\"dataframe\">\n",
       "  <thead>\n",
       "    <tr style=\"text-align: right;\">\n",
       "      <th></th>\n",
       "      <th>Date</th>\n",
       "      <th>Hour</th>\n",
       "      <th>LVLTYP1</th>\n",
       "      <th>LVLTYP2</th>\n",
       "      <th>ETIME</th>\n",
       "      <th>PRESS</th>\n",
       "      <th>PFLAG</th>\n",
       "      <th>GPH</th>\n",
       "      <th>ZFLAG</th>\n",
       "      <th>TEMP</th>\n",
       "      <th>TFLAG</th>\n",
       "      <th>RH</th>\n",
       "      <th>DPDP</th>\n",
       "      <th>WDIR</th>\n",
       "      <th>WSPD</th>\n",
       "    </tr>\n",
       "  </thead>\n",
       "  <tbody>\n",
       "    <tr>\n",
       "      <th>0</th>\n",
       "      <td>2022 01 01</td>\n",
       "      <td>00</td>\n",
       "      <td>2</td>\n",
       "      <td>1</td>\n",
       "      <td>0</td>\n",
       "      <td>92964</td>\n",
       "      <td>B</td>\n",
       "      <td>729</td>\n",
       "      <td>NaN</td>\n",
       "      <td>-118</td>\n",
       "      <td>B</td>\n",
       "      <td>740</td>\n",
       "      <td>37</td>\n",
       "      <td>245</td>\n",
       "      <td>21</td>\n",
       "    </tr>\n",
       "    <tr>\n",
       "      <th>1</th>\n",
       "      <td>2022 01 01</td>\n",
       "      <td>00</td>\n",
       "      <td>1</td>\n",
       "      <td>0</td>\n",
       "      <td>8</td>\n",
       "      <td>92500</td>\n",
       "      <td>NaN</td>\n",
       "      <td>767</td>\n",
       "      <td>B</td>\n",
       "      <td>-118</td>\n",
       "      <td>B</td>\n",
       "      <td>734</td>\n",
       "      <td>38</td>\n",
       "      <td>238</td>\n",
       "      <td>20</td>\n",
       "    </tr>\n",
       "    <tr>\n",
       "      <th>2</th>\n",
       "      <td>2022 01 01</td>\n",
       "      <td>00</td>\n",
       "      <td>2</td>\n",
       "      <td>0</td>\n",
       "      <td>100</td>\n",
       "      <td>89267</td>\n",
       "      <td>NaN</td>\n",
       "      <td>1040</td>\n",
       "      <td>B</td>\n",
       "      <td>-122</td>\n",
       "      <td>B</td>\n",
       "      <td>694</td>\n",
       "      <td>44</td>\n",
       "      <td>20</td>\n",
       "      <td>10</td>\n",
       "    </tr>\n",
       "    <tr>\n",
       "      <th>3</th>\n",
       "      <td>2022 01 01</td>\n",
       "      <td>00</td>\n",
       "      <td>1</td>\n",
       "      <td>0</td>\n",
       "      <td>212</td>\n",
       "      <td>85000</td>\n",
       "      <td>NaN</td>\n",
       "      <td>1411</td>\n",
       "      <td>B</td>\n",
       "      <td>-158</td>\n",
       "      <td>B</td>\n",
       "      <td>889</td>\n",
       "      <td>14</td>\n",
       "      <td>34</td>\n",
       "      <td>19</td>\n",
       "    </tr>\n",
       "    <tr>\n",
       "      <th>4</th>\n",
       "      <td>2022 01 01</td>\n",
       "      <td>00</td>\n",
       "      <td>2</td>\n",
       "      <td>0</td>\n",
       "      <td>234</td>\n",
       "      <td>83649</td>\n",
       "      <td>NaN</td>\n",
       "      <td>1532</td>\n",
       "      <td>B</td>\n",
       "      <td>-170</td>\n",
       "      <td>B</td>\n",
       "      <td>940</td>\n",
       "      <td>7</td>\n",
       "      <td>28</td>\n",
       "      <td>28</td>\n",
       "    </tr>\n",
       "  </tbody>\n",
       "</table>\n",
       "</div>"
      ],
      "text/plain": [
       "         Date Hour LVLTYP1 LVLTYP2 ETIME  PRESS PFLAG   GPH ZFLAG  TEMP TFLAG  \\\n",
       "0  2022 01 01   00       2       1     0  92964     B   729   NaN  -118     B   \n",
       "1  2022 01 01   00       1       0     8  92500   NaN   767     B  -118     B   \n",
       "2  2022 01 01   00       2       0   100  89267   NaN  1040     B  -122     B   \n",
       "3  2022 01 01   00       1       0   212  85000   NaN  1411     B  -158     B   \n",
       "4  2022 01 01   00       2       0   234  83649   NaN  1532     B  -170     B   \n",
       "\n",
       "    RH DPDP WDIR WSPD  \n",
       "0  740   37  245   21  \n",
       "1  734   38  238   20  \n",
       "2  694   44   20   10  \n",
       "3  889   14   34   19  \n",
       "4  940    7   28   28  "
      ]
     },
     "execution_count": 12,
     "metadata": {},
     "output_type": "execute_result"
    }
   ],
   "source": [
    "df = data_loading(station_name)\n",
    "df.head()"
   ]
  },
  {
   "cell_type": "code",
   "execution_count": 13,
   "id": "af617c88",
   "metadata": {},
   "outputs": [],
   "source": [
    "preprocess()\n",
    "process_convention()"
   ]
  },
  {
   "cell_type": "code",
   "execution_count": 14,
   "id": "33d51582",
   "metadata": {},
   "outputs": [
    {
     "data": {
      "text/html": [
       "<div>\n",
       "<style scoped>\n",
       "    .dataframe tbody tr th:only-of-type {\n",
       "        vertical-align: middle;\n",
       "    }\n",
       "\n",
       "    .dataframe tbody tr th {\n",
       "        vertical-align: top;\n",
       "    }\n",
       "\n",
       "    .dataframe thead th {\n",
       "        text-align: right;\n",
       "    }\n",
       "</style>\n",
       "<table border=\"1\" class=\"dataframe\">\n",
       "  <thead>\n",
       "    <tr style=\"text-align: right;\">\n",
       "      <th></th>\n",
       "      <th>Date</th>\n",
       "      <th>Hour</th>\n",
       "      <th>LVLTYP1</th>\n",
       "      <th>LVLTYP2</th>\n",
       "      <th>ETIME</th>\n",
       "      <th>PRESS</th>\n",
       "      <th>PFLAG</th>\n",
       "      <th>GPH</th>\n",
       "      <th>ZFLAG</th>\n",
       "      <th>TEMP</th>\n",
       "      <th>TFLAG</th>\n",
       "      <th>RH</th>\n",
       "      <th>DPDP</th>\n",
       "      <th>WDIR</th>\n",
       "      <th>WSPD</th>\n",
       "    </tr>\n",
       "  </thead>\n",
       "  <tbody>\n",
       "    <tr>\n",
       "      <th>0</th>\n",
       "      <td>2022 01 01</td>\n",
       "      <td>00</td>\n",
       "      <td>2</td>\n",
       "      <td>1</td>\n",
       "      <td>0</td>\n",
       "      <td>92964.0</td>\n",
       "      <td>B</td>\n",
       "      <td>729</td>\n",
       "      <td>NaN</td>\n",
       "      <td>-11.8</td>\n",
       "      <td>B</td>\n",
       "      <td>74.0</td>\n",
       "      <td>3.7</td>\n",
       "      <td>24.5</td>\n",
       "      <td>2.1</td>\n",
       "    </tr>\n",
       "    <tr>\n",
       "      <th>1</th>\n",
       "      <td>2022 01 01</td>\n",
       "      <td>00</td>\n",
       "      <td>1</td>\n",
       "      <td>0</td>\n",
       "      <td>8</td>\n",
       "      <td>92500.0</td>\n",
       "      <td>NaN</td>\n",
       "      <td>767</td>\n",
       "      <td>B</td>\n",
       "      <td>-11.8</td>\n",
       "      <td>B</td>\n",
       "      <td>73.4</td>\n",
       "      <td>3.8</td>\n",
       "      <td>23.8</td>\n",
       "      <td>2.0</td>\n",
       "    </tr>\n",
       "    <tr>\n",
       "      <th>2</th>\n",
       "      <td>2022 01 01</td>\n",
       "      <td>00</td>\n",
       "      <td>2</td>\n",
       "      <td>0</td>\n",
       "      <td>100</td>\n",
       "      <td>89267.0</td>\n",
       "      <td>NaN</td>\n",
       "      <td>1040</td>\n",
       "      <td>B</td>\n",
       "      <td>-12.2</td>\n",
       "      <td>B</td>\n",
       "      <td>69.4</td>\n",
       "      <td>4.4</td>\n",
       "      <td>2.0</td>\n",
       "      <td>1.0</td>\n",
       "    </tr>\n",
       "    <tr>\n",
       "      <th>3</th>\n",
       "      <td>2022 01 01</td>\n",
       "      <td>00</td>\n",
       "      <td>1</td>\n",
       "      <td>0</td>\n",
       "      <td>212</td>\n",
       "      <td>85000.0</td>\n",
       "      <td>NaN</td>\n",
       "      <td>1411</td>\n",
       "      <td>B</td>\n",
       "      <td>-15.8</td>\n",
       "      <td>B</td>\n",
       "      <td>88.9</td>\n",
       "      <td>1.4</td>\n",
       "      <td>3.4</td>\n",
       "      <td>1.9</td>\n",
       "    </tr>\n",
       "    <tr>\n",
       "      <th>4</th>\n",
       "      <td>2022 01 01</td>\n",
       "      <td>00</td>\n",
       "      <td>2</td>\n",
       "      <td>0</td>\n",
       "      <td>234</td>\n",
       "      <td>83649.0</td>\n",
       "      <td>NaN</td>\n",
       "      <td>1532</td>\n",
       "      <td>B</td>\n",
       "      <td>-17.0</td>\n",
       "      <td>B</td>\n",
       "      <td>94.0</td>\n",
       "      <td>0.7</td>\n",
       "      <td>2.8</td>\n",
       "      <td>2.8</td>\n",
       "    </tr>\n",
       "  </tbody>\n",
       "</table>\n",
       "</div>"
      ],
      "text/plain": [
       "         Date Hour LVLTYP1 LVLTYP2 ETIME    PRESS PFLAG   GPH ZFLAG  TEMP  \\\n",
       "0  2022 01 01   00       2       1     0  92964.0     B   729   NaN -11.8   \n",
       "1  2022 01 01   00       1       0     8  92500.0   NaN   767     B -11.8   \n",
       "2  2022 01 01   00       2       0   100  89267.0   NaN  1040     B -12.2   \n",
       "3  2022 01 01   00       1       0   212  85000.0   NaN  1411     B -15.8   \n",
       "4  2022 01 01   00       2       0   234  83649.0   NaN  1532     B -17.0   \n",
       "\n",
       "  TFLAG    RH  DPDP  WDIR  WSPD  \n",
       "0     B  74.0   3.7  24.5   2.1  \n",
       "1     B  73.4   3.8  23.8   2.0  \n",
       "2     B  69.4   4.4   2.0   1.0  \n",
       "3     B  88.9   1.4   3.4   1.9  \n",
       "4     B  94.0   0.7   2.8   2.8  "
      ]
     },
     "execution_count": 14,
     "metadata": {},
     "output_type": "execute_result"
    }
   ],
   "source": [
    "df.head()"
   ]
  },
  {
   "cell_type": "code",
   "execution_count": null,
   "id": "4a0a418f",
   "metadata": {},
   "outputs": [],
   "source": []
  },
  {
   "cell_type": "code",
   "execution_count": 15,
   "id": "8e601992",
   "metadata": {},
   "outputs": [],
   "source": [
    "# g = sns.relplot(\n",
    "#     data=df,\n",
    "#     x=\"Month\", y=\"TEMP\", col=\"Year\", hue=\"Year\",\n",
    "#     kind=\"line\", palette=\"crest\", linewidth=4, zorder=5,\n",
    "#     col_wrap=3, height=2, aspect=1.5, legend=False,\n",
    "# )\n",
    "\n",
    "# # Iterate over each subplot to customize further\n",
    "# for year, ax in g.axes_dict.items():\n",
    "\n",
    "#     # Add the title as an annotation within the plot\n",
    "#     ax.text(.8, .85, year, transform=ax.transAxes, fontweight=\"bold\")\n",
    "\n",
    "#     # Plot every year's time series in the background\n",
    "#     sns.lineplot(\n",
    "#         data=df, x=\"Month\", y=\"TEMP\", units=\"Year\",\n",
    "#         estimator=None, color=\".7\", linewidth=1, ax=ax,\n",
    "#     )\n",
    "\n",
    "# # Reduce the frequency of the x axis ticks\n",
    "# ax.set_xticks(ax.get_xticks()[::2])\n",
    "\n",
    "# # Tweak the supporting aspects of the plot\n",
    "# g.set_titles(\"\")\n",
    "# g.set_axis_labels(\"\", \"Passengers\")\n",
    "# g.tight_layout()"
   ]
  },
  {
   "cell_type": "code",
   "execution_count": 16,
   "id": "6424cc89",
   "metadata": {
    "scrolled": true
   },
   "outputs": [],
   "source": [
    "# import plotly.graph_objects as go\n",
    "# import pandas as pd\n",
    "\n",
    "# # Example data\n",
    "# # data = {'Time': [1, 2, 3, 4, 5],\n",
    "# #         'Altitude': [100, 200, 300, 400, 500],\n",
    "# #         'Temperature': [20, 25, 30, 35, 40]}\n",
    "\n",
    "# # df = pd.DataFrame(data)\n",
    "\n",
    "# # Create a 3D scatter plot\n",
    "# fig = go.Figure(data=[go.Scatter3d(\n",
    "#     x=df['Date'],\n",
    "#     y=df['TEMP'],\n",
    "#     z=df['GPH'],\n",
    "#     mode='markers',\n",
    "#     marker=dict(size=8, color=df['TEMP'], colorscale='Viridis', opacity=0.8)\n",
    "# )])\n",
    "\n",
    "# # Set labels and title\n",
    "# fig.update_layout(scene=dict(\n",
    "#                     xaxis_title='Time',\n",
    "#                     yaxis_title='Temperature',\n",
    "#                     zaxis_title='Altitude'),\n",
    "#                   title='3D Plot of Time, Altitude, and Temperature')\n",
    "\n",
    "# fig.show()"
   ]
  },
  {
   "cell_type": "code",
   "execution_count": 17,
   "id": "8348d665",
   "metadata": {},
   "outputs": [],
   "source": [
    "df['TEMP_K'] = df['TEMP'] + 273.15"
   ]
  },
  {
   "cell_type": "code",
   "execution_count": 18,
   "id": "9ee7075c",
   "metadata": {},
   "outputs": [],
   "source": [
    "df['PRESS'] = df['PRESS'].astype(float)/100"
   ]
  },
  {
   "cell_type": "code",
   "execution_count": 19,
   "id": "008df931",
   "metadata": {},
   "outputs": [],
   "source": [
    "#Pressure altitude\n",
    "def calculate_pressure_altitude(press):\n",
    "    press_alt_feet = (1-math.pow((press/1013.25), 0.190284))*145366.45\n",
    "    #press_alt_mts = 0.3048 * press_alt_feet\n",
    "    return press_alt_feet"
   ]
  },
  {
   "cell_type": "code",
   "execution_count": 20,
   "id": "ff218fba",
   "metadata": {},
   "outputs": [],
   "source": [
    "df['PRESS_ALT'] = df['PRESS'].apply(calculate_pressure_altitude)"
   ]
  },
  {
   "cell_type": "code",
   "execution_count": 21,
   "id": "6ad1f248",
   "metadata": {},
   "outputs": [],
   "source": [
    "df['RH_ice'] = df.apply(lambda row: convert_RH(row['RH'], row['TEMP_K']), axis=1)"
   ]
  },
  {
   "cell_type": "code",
   "execution_count": 22,
   "id": "1de82788",
   "metadata": {},
   "outputs": [],
   "source": [
    "df['GPH_ft'] = df['GPH'] * 3.28084"
   ]
  },
  {
   "cell_type": "code",
   "execution_count": null,
   "id": "f8c9f642",
   "metadata": {},
   "outputs": [],
   "source": []
  },
  {
   "cell_type": "code",
   "execution_count": 23,
   "id": "ca942cbc",
   "metadata": {},
   "outputs": [
    {
     "data": {
      "text/html": [
       "<div>\n",
       "<style scoped>\n",
       "    .dataframe tbody tr th:only-of-type {\n",
       "        vertical-align: middle;\n",
       "    }\n",
       "\n",
       "    .dataframe tbody tr th {\n",
       "        vertical-align: top;\n",
       "    }\n",
       "\n",
       "    .dataframe thead th {\n",
       "        text-align: right;\n",
       "    }\n",
       "</style>\n",
       "<table border=\"1\" class=\"dataframe\">\n",
       "  <thead>\n",
       "    <tr style=\"text-align: right;\">\n",
       "      <th></th>\n",
       "      <th>Date</th>\n",
       "      <th>Hour</th>\n",
       "      <th>LVLTYP1</th>\n",
       "      <th>LVLTYP2</th>\n",
       "      <th>ETIME</th>\n",
       "      <th>PRESS</th>\n",
       "      <th>PFLAG</th>\n",
       "      <th>GPH</th>\n",
       "      <th>ZFLAG</th>\n",
       "      <th>TEMP</th>\n",
       "      <th>TFLAG</th>\n",
       "      <th>RH</th>\n",
       "      <th>DPDP</th>\n",
       "      <th>WDIR</th>\n",
       "      <th>WSPD</th>\n",
       "      <th>TEMP_K</th>\n",
       "      <th>PRESS_ALT</th>\n",
       "      <th>RH_ice</th>\n",
       "      <th>GPH_ft</th>\n",
       "    </tr>\n",
       "  </thead>\n",
       "  <tbody>\n",
       "    <tr>\n",
       "      <th>0</th>\n",
       "      <td>2022 01 01</td>\n",
       "      <td>00</td>\n",
       "      <td>2</td>\n",
       "      <td>1</td>\n",
       "      <td>0</td>\n",
       "      <td>929.64</td>\n",
       "      <td>B</td>\n",
       "      <td>729</td>\n",
       "      <td>NaN</td>\n",
       "      <td>-11.8</td>\n",
       "      <td>B</td>\n",
       "      <td>74.0</td>\n",
       "      <td>3.7</td>\n",
       "      <td>24.5</td>\n",
       "      <td>2.1</td>\n",
       "      <td>261.35</td>\n",
       "      <td>2362.768359</td>\n",
       "      <td>89.335307</td>\n",
       "      <td>2391.73236</td>\n",
       "    </tr>\n",
       "    <tr>\n",
       "      <th>1</th>\n",
       "      <td>2022 01 01</td>\n",
       "      <td>00</td>\n",
       "      <td>1</td>\n",
       "      <td>0</td>\n",
       "      <td>8</td>\n",
       "      <td>925.00</td>\n",
       "      <td>NaN</td>\n",
       "      <td>767</td>\n",
       "      <td>B</td>\n",
       "      <td>-11.8</td>\n",
       "      <td>B</td>\n",
       "      <td>73.4</td>\n",
       "      <td>3.8</td>\n",
       "      <td>23.8</td>\n",
       "      <td>2.0</td>\n",
       "      <td>261.35</td>\n",
       "      <td>2498.860178</td>\n",
       "      <td>88.610966</td>\n",
       "      <td>2516.40428</td>\n",
       "    </tr>\n",
       "    <tr>\n",
       "      <th>2</th>\n",
       "      <td>2022 01 01</td>\n",
       "      <td>00</td>\n",
       "      <td>2</td>\n",
       "      <td>0</td>\n",
       "      <td>100</td>\n",
       "      <td>892.67</td>\n",
       "      <td>NaN</td>\n",
       "      <td>1040</td>\n",
       "      <td>B</td>\n",
       "      <td>-12.2</td>\n",
       "      <td>B</td>\n",
       "      <td>69.4</td>\n",
       "      <td>4.4</td>\n",
       "      <td>2.0</td>\n",
       "      <td>1.0</td>\n",
       "      <td>260.95</td>\n",
       "      <td>3462.763030</td>\n",
       "      <td>84.119974</td>\n",
       "      <td>3412.07360</td>\n",
       "    </tr>\n",
       "    <tr>\n",
       "      <th>3</th>\n",
       "      <td>2022 01 01</td>\n",
       "      <td>00</td>\n",
       "      <td>1</td>\n",
       "      <td>0</td>\n",
       "      <td>212</td>\n",
       "      <td>850.00</td>\n",
       "      <td>NaN</td>\n",
       "      <td>1411</td>\n",
       "      <td>B</td>\n",
       "      <td>-15.8</td>\n",
       "      <td>B</td>\n",
       "      <td>88.9</td>\n",
       "      <td>1.4</td>\n",
       "      <td>3.4</td>\n",
       "      <td>1.9</td>\n",
       "      <td>257.35</td>\n",
       "      <td>4779.193602</td>\n",
       "      <td>111.734330</td>\n",
       "      <td>4629.26524</td>\n",
       "    </tr>\n",
       "    <tr>\n",
       "      <th>4</th>\n",
       "      <td>2022 01 01</td>\n",
       "      <td>00</td>\n",
       "      <td>2</td>\n",
       "      <td>0</td>\n",
       "      <td>234</td>\n",
       "      <td>836.49</td>\n",
       "      <td>NaN</td>\n",
       "      <td>1532</td>\n",
       "      <td>B</td>\n",
       "      <td>-17.0</td>\n",
       "      <td>B</td>\n",
       "      <td>94.0</td>\n",
       "      <td>0.7</td>\n",
       "      <td>2.8</td>\n",
       "      <td>2.8</td>\n",
       "      <td>256.15</td>\n",
       "      <td>5207.147756</td>\n",
       "      <td>119.581491</td>\n",
       "      <td>5026.24688</td>\n",
       "    </tr>\n",
       "  </tbody>\n",
       "</table>\n",
       "</div>"
      ],
      "text/plain": [
       "         Date Hour LVLTYP1 LVLTYP2 ETIME   PRESS PFLAG   GPH ZFLAG  TEMP  \\\n",
       "0  2022 01 01   00       2       1     0  929.64     B   729   NaN -11.8   \n",
       "1  2022 01 01   00       1       0     8  925.00   NaN   767     B -11.8   \n",
       "2  2022 01 01   00       2       0   100  892.67   NaN  1040     B -12.2   \n",
       "3  2022 01 01   00       1       0   212  850.00   NaN  1411     B -15.8   \n",
       "4  2022 01 01   00       2       0   234  836.49   NaN  1532     B -17.0   \n",
       "\n",
       "  TFLAG    RH  DPDP  WDIR  WSPD  TEMP_K    PRESS_ALT      RH_ice      GPH_ft  \n",
       "0     B  74.0   3.7  24.5   2.1  261.35  2362.768359   89.335307  2391.73236  \n",
       "1     B  73.4   3.8  23.8   2.0  261.35  2498.860178   88.610966  2516.40428  \n",
       "2     B  69.4   4.4   2.0   1.0  260.95  3462.763030   84.119974  3412.07360  \n",
       "3     B  88.9   1.4   3.4   1.9  257.35  4779.193602  111.734330  4629.26524  \n",
       "4     B  94.0   0.7   2.8   2.8  256.15  5207.147756  119.581491  5026.24688  "
      ]
     },
     "execution_count": 23,
     "metadata": {},
     "output_type": "execute_result"
    }
   ],
   "source": [
    "df.head()"
   ]
  },
  {
   "cell_type": "code",
   "execution_count": 24,
   "id": "af9b82ec",
   "metadata": {},
   "outputs": [],
   "source": [
    "#df.to_csv(station_codes[station_name]+'_converted_data.csv')"
   ]
  },
  {
   "cell_type": "code",
   "execution_count": 25,
   "id": "40750587",
   "metadata": {},
   "outputs": [],
   "source": [
    "\n",
    "df['Year']= df['Date'].str.split(' ').str[0]\n",
    "df['Month'] = df['Date'].str.split(' ').str[1]\n",
    "df['Day'] = df['Date'].str.split(' ').str[2]\n",
    "df['Date'] = pd.to_datetime(df['Date'])"
   ]
  },
  {
   "cell_type": "code",
   "execution_count": 26,
   "id": "893843aa",
   "metadata": {},
   "outputs": [],
   "source": [
    "df.to_csv(station_name+'_converted_data.csv')"
   ]
  },
  {
   "cell_type": "code",
   "execution_count": 26,
   "id": "33f55ec3",
   "metadata": {},
   "outputs": [],
   "source": [
    "#df[(df['PRESS'] >= 236) & (df['RH_ice']/100  >= 100)]['Date'].nunique()"
   ]
  },
  {
   "cell_type": "code",
   "execution_count": 27,
   "id": "0db42d2f",
   "metadata": {},
   "outputs": [
    {
     "data": {
      "text/html": [
       "<div>\n",
       "<style scoped>\n",
       "    .dataframe tbody tr th:only-of-type {\n",
       "        vertical-align: middle;\n",
       "    }\n",
       "\n",
       "    .dataframe tbody tr th {\n",
       "        vertical-align: top;\n",
       "    }\n",
       "\n",
       "    .dataframe thead th {\n",
       "        text-align: right;\n",
       "    }\n",
       "</style>\n",
       "<table border=\"1\" class=\"dataframe\">\n",
       "  <thead>\n",
       "    <tr style=\"text-align: right;\">\n",
       "      <th></th>\n",
       "      <th>PRESS</th>\n",
       "      <th>GPH</th>\n",
       "      <th>TEMP</th>\n",
       "      <th>RH</th>\n",
       "      <th>DPDP</th>\n",
       "      <th>WDIR</th>\n",
       "      <th>WSPD</th>\n",
       "      <th>TEMP_K</th>\n",
       "      <th>PRESS_ALT</th>\n",
       "      <th>RH_ice</th>\n",
       "      <th>GPH_ft</th>\n",
       "    </tr>\n",
       "  </thead>\n",
       "  <tbody>\n",
       "    <tr>\n",
       "      <th>count</th>\n",
       "      <td>18343.00000</td>\n",
       "      <td>24697.000000</td>\n",
       "      <td>18220.000000</td>\n",
       "      <td>18233.000000</td>\n",
       "      <td>24697.000000</td>\n",
       "      <td>24697.000000</td>\n",
       "      <td>24697.000000</td>\n",
       "      <td>18220.000000</td>\n",
       "      <td>18343.000000</td>\n",
       "      <td>18220.000000</td>\n",
       "      <td>24697.000000</td>\n",
       "    </tr>\n",
       "    <tr>\n",
       "      <th>mean</th>\n",
       "      <td>225.25193</td>\n",
       "      <td>11200.091752</td>\n",
       "      <td>-52.706855</td>\n",
       "      <td>27.701344</td>\n",
       "      <td>9.597611</td>\n",
       "      <td>25.138580</td>\n",
       "      <td>24.540337</td>\n",
       "      <td>220.443145</td>\n",
       "      <td>11106.667817</td>\n",
       "      <td>50.448781</td>\n",
       "      <td>36745.709024</td>\n",
       "    </tr>\n",
       "    <tr>\n",
       "      <th>std</th>\n",
       "      <td>40.40250</td>\n",
       "      <td>1111.575483</td>\n",
       "      <td>6.760092</td>\n",
       "      <td>19.918719</td>\n",
       "      <td>9.181777</td>\n",
       "      <td>7.427071</td>\n",
       "      <td>13.858448</td>\n",
       "      <td>6.760092</td>\n",
       "      <td>1125.560979</td>\n",
       "      <td>36.556273</td>\n",
       "      <td>3646.901308</td>\n",
       "    </tr>\n",
       "    <tr>\n",
       "      <th>min</th>\n",
       "      <td>152.34000</td>\n",
       "      <td>9144.000000</td>\n",
       "      <td>-73.200000</td>\n",
       "      <td>0.900000</td>\n",
       "      <td>0.000000</td>\n",
       "      <td>0.000000</td>\n",
       "      <td>0.000000</td>\n",
       "      <td>199.950000</td>\n",
       "      <td>8667.584142</td>\n",
       "      <td>1.490853</td>\n",
       "      <td>30000.000960</td>\n",
       "    </tr>\n",
       "    <tr>\n",
       "      <th>25%</th>\n",
       "      <td>193.12500</td>\n",
       "      <td>10302.000000</td>\n",
       "      <td>-57.300000</td>\n",
       "      <td>10.500000</td>\n",
       "      <td>0.000000</td>\n",
       "      <td>22.600000</td>\n",
       "      <td>14.400000</td>\n",
       "      <td>215.850000</td>\n",
       "      <td>10309.720721</td>\n",
       "      <td>18.675239</td>\n",
       "      <td>33799.213680</td>\n",
       "    </tr>\n",
       "    <tr>\n",
       "      <th>50%</th>\n",
       "      <td>218.52000</td>\n",
       "      <td>11260.000000</td>\n",
       "      <td>-52.800000</td>\n",
       "      <td>24.600000</td>\n",
       "      <td>7.500000</td>\n",
       "      <td>26.200000</td>\n",
       "      <td>22.500000</td>\n",
       "      <td>220.350000</td>\n",
       "      <td>11216.905950</td>\n",
       "      <td>44.710171</td>\n",
       "      <td>36942.258400</td>\n",
       "    </tr>\n",
       "    <tr>\n",
       "      <th>75%</th>\n",
       "      <td>251.89500</td>\n",
       "      <td>12142.000000</td>\n",
       "      <td>-48.500000</td>\n",
       "      <td>43.400000</td>\n",
       "      <td>14.300000</td>\n",
       "      <td>30.000000</td>\n",
       "      <td>33.000000</td>\n",
       "      <td>224.650000</td>\n",
       "      <td>11985.721199</td>\n",
       "      <td>80.085750</td>\n",
       "      <td>39835.959280</td>\n",
       "    </tr>\n",
       "    <tr>\n",
       "      <th>max</th>\n",
       "      <td>322.76000</td>\n",
       "      <td>13106.000000</td>\n",
       "      <td>-28.600000</td>\n",
       "      <td>100.000000</td>\n",
       "      <td>36.500000</td>\n",
       "      <td>46.800000</td>\n",
       "      <td>78.000000</td>\n",
       "      <td>244.550000</td>\n",
       "      <td>13412.285781</td>\n",
       "      <td>202.347170</td>\n",
       "      <td>42998.689040</td>\n",
       "    </tr>\n",
       "  </tbody>\n",
       "</table>\n",
       "</div>"
      ],
      "text/plain": [
       "             PRESS           GPH          TEMP            RH          DPDP  \\\n",
       "count  18343.00000  24697.000000  18220.000000  18233.000000  24697.000000   \n",
       "mean     225.25193  11200.091752    -52.706855     27.701344      9.597611   \n",
       "std       40.40250   1111.575483      6.760092     19.918719      9.181777   \n",
       "min      152.34000   9144.000000    -73.200000      0.900000      0.000000   \n",
       "25%      193.12500  10302.000000    -57.300000     10.500000      0.000000   \n",
       "50%      218.52000  11260.000000    -52.800000     24.600000      7.500000   \n",
       "75%      251.89500  12142.000000    -48.500000     43.400000     14.300000   \n",
       "max      322.76000  13106.000000    -28.600000    100.000000     36.500000   \n",
       "\n",
       "               WDIR          WSPD        TEMP_K     PRESS_ALT        RH_ice  \\\n",
       "count  24697.000000  24697.000000  18220.000000  18343.000000  18220.000000   \n",
       "mean      25.138580     24.540337    220.443145  11106.667817     50.448781   \n",
       "std        7.427071     13.858448      6.760092   1125.560979     36.556273   \n",
       "min        0.000000      0.000000    199.950000   8667.584142      1.490853   \n",
       "25%       22.600000     14.400000    215.850000  10309.720721     18.675239   \n",
       "50%       26.200000     22.500000    220.350000  11216.905950     44.710171   \n",
       "75%       30.000000     33.000000    224.650000  11985.721199     80.085750   \n",
       "max       46.800000     78.000000    244.550000  13412.285781    202.347170   \n",
       "\n",
       "             GPH_ft  \n",
       "count  24697.000000  \n",
       "mean   36745.709024  \n",
       "std     3646.901308  \n",
       "min    30000.000960  \n",
       "25%    33799.213680  \n",
       "50%    36942.258400  \n",
       "75%    39835.959280  \n",
       "max    42998.689040  "
      ]
     },
     "execution_count": 27,
     "metadata": {},
     "output_type": "execute_result"
    }
   ],
   "source": [
    "df[(df['GPH_ft']>= 30000) & (df['GPH_ft'] < 43000)].describe()"
   ]
  },
  {
   "cell_type": "code",
   "execution_count": 28,
   "id": "bb4988cc",
   "metadata": {},
   "outputs": [
    {
     "data": {
      "text/html": [
       "<div>\n",
       "<style scoped>\n",
       "    .dataframe tbody tr th:only-of-type {\n",
       "        vertical-align: middle;\n",
       "    }\n",
       "\n",
       "    .dataframe tbody tr th {\n",
       "        vertical-align: top;\n",
       "    }\n",
       "\n",
       "    .dataframe thead th {\n",
       "        text-align: right;\n",
       "    }\n",
       "</style>\n",
       "<table border=\"1\" class=\"dataframe\">\n",
       "  <thead>\n",
       "    <tr style=\"text-align: right;\">\n",
       "      <th></th>\n",
       "      <th>Date</th>\n",
       "      <th>Hour</th>\n",
       "      <th>LVLTYP1</th>\n",
       "      <th>LVLTYP2</th>\n",
       "      <th>ETIME</th>\n",
       "      <th>PRESS</th>\n",
       "      <th>PFLAG</th>\n",
       "      <th>GPH</th>\n",
       "      <th>ZFLAG</th>\n",
       "      <th>TEMP</th>\n",
       "      <th>...</th>\n",
       "      <th>DPDP</th>\n",
       "      <th>WDIR</th>\n",
       "      <th>WSPD</th>\n",
       "      <th>TEMP_K</th>\n",
       "      <th>PRESS_ALT</th>\n",
       "      <th>RH_ice</th>\n",
       "      <th>GPH_ft</th>\n",
       "      <th>Year</th>\n",
       "      <th>Month</th>\n",
       "      <th>Day</th>\n",
       "    </tr>\n",
       "  </thead>\n",
       "  <tbody>\n",
       "    <tr>\n",
       "      <th>573</th>\n",
       "      <td>2022-01-02</td>\n",
       "      <td>12</td>\n",
       "      <td>2</td>\n",
       "      <td>0</td>\n",
       "      <td>2525</td>\n",
       "      <td>288.88</td>\n",
       "      <td>NaN</td>\n",
       "      <td>9269</td>\n",
       "      <td>B</td>\n",
       "      <td>-50.9</td>\n",
       "      <td>...</td>\n",
       "      <td>4.5</td>\n",
       "      <td>26.0</td>\n",
       "      <td>50.7</td>\n",
       "      <td>222.25</td>\n",
       "      <td>9411.783688</td>\n",
       "      <td>105.113027</td>\n",
       "      <td>30410.10596</td>\n",
       "      <td>2022</td>\n",
       "      <td>01</td>\n",
       "      <td>02</td>\n",
       "    </tr>\n",
       "    <tr>\n",
       "      <th>1662</th>\n",
       "      <td>2022-01-05</td>\n",
       "      <td>12</td>\n",
       "      <td>2</td>\n",
       "      <td>0</td>\n",
       "      <td>2640</td>\n",
       "      <td>274.97</td>\n",
       "      <td>NaN</td>\n",
       "      <td>9492</td>\n",
       "      <td>B</td>\n",
       "      <td>-53.6</td>\n",
       "      <td>...</td>\n",
       "      <td>3.8</td>\n",
       "      <td>31.3</td>\n",
       "      <td>76.2</td>\n",
       "      <td>219.55</td>\n",
       "      <td>9737.936381</td>\n",
       "      <td>115.728558</td>\n",
       "      <td>31141.73328</td>\n",
       "      <td>2022</td>\n",
       "      <td>01</td>\n",
       "      <td>05</td>\n",
       "    </tr>\n",
       "    <tr>\n",
       "      <th>1663</th>\n",
       "      <td>2022-01-05</td>\n",
       "      <td>12</td>\n",
       "      <td>2</td>\n",
       "      <td>2</td>\n",
       "      <td>2719</td>\n",
       "      <td>263.97</td>\n",
       "      <td>NaN</td>\n",
       "      <td>9753</td>\n",
       "      <td>B</td>\n",
       "      <td>-55.5</td>\n",
       "      <td>...</td>\n",
       "      <td>4.2</td>\n",
       "      <td>31.0</td>\n",
       "      <td>71.7</td>\n",
       "      <td>217.65</td>\n",
       "      <td>10005.455817</td>\n",
       "      <td>110.109543</td>\n",
       "      <td>31998.03252</td>\n",
       "      <td>2022</td>\n",
       "      <td>01</td>\n",
       "      <td>05</td>\n",
       "    </tr>\n",
       "    <tr>\n",
       "      <th>1839</th>\n",
       "      <td>2022-01-06</td>\n",
       "      <td>00</td>\n",
       "      <td>2</td>\n",
       "      <td>0</td>\n",
       "      <td>2849</td>\n",
       "      <td>251.69</td>\n",
       "      <td>NaN</td>\n",
       "      <td>10216</td>\n",
       "      <td>B</td>\n",
       "      <td>-56.1</td>\n",
       "      <td>...</td>\n",
       "      <td>3.0</td>\n",
       "      <td>31.3</td>\n",
       "      <td>70.8</td>\n",
       "      <td>217.05</td>\n",
       "      <td>10314.987349</td>\n",
       "      <td>127.990276</td>\n",
       "      <td>33517.06144</td>\n",
       "      <td>2022</td>\n",
       "      <td>01</td>\n",
       "      <td>06</td>\n",
       "    </tr>\n",
       "    <tr>\n",
       "      <th>1840</th>\n",
       "      <td>2022-01-06</td>\n",
       "      <td>00</td>\n",
       "      <td>1</td>\n",
       "      <td>0</td>\n",
       "      <td>2858</td>\n",
       "      <td>250.00</td>\n",
       "      <td>NaN</td>\n",
       "      <td>10259</td>\n",
       "      <td>B</td>\n",
       "      <td>-56.4</td>\n",
       "      <td>...</td>\n",
       "      <td>3.2</td>\n",
       "      <td>31.3</td>\n",
       "      <td>71.0</td>\n",
       "      <td>216.75</td>\n",
       "      <td>10358.537791</td>\n",
       "      <td>126.273221</td>\n",
       "      <td>33658.13756</td>\n",
       "      <td>2022</td>\n",
       "      <td>01</td>\n",
       "      <td>06</td>\n",
       "    </tr>\n",
       "    <tr>\n",
       "      <th>...</th>\n",
       "      <td>...</td>\n",
       "      <td>...</td>\n",
       "      <td>...</td>\n",
       "      <td>...</td>\n",
       "      <td>...</td>\n",
       "      <td>...</td>\n",
       "      <td>...</td>\n",
       "      <td>...</td>\n",
       "      <td>...</td>\n",
       "      <td>...</td>\n",
       "      <td>...</td>\n",
       "      <td>...</td>\n",
       "      <td>...</td>\n",
       "      <td>...</td>\n",
       "      <td>...</td>\n",
       "      <td>...</td>\n",
       "      <td>...</td>\n",
       "      <td>...</td>\n",
       "      <td>...</td>\n",
       "      <td>...</td>\n",
       "      <td>...</td>\n",
       "    </tr>\n",
       "    <tr>\n",
       "      <th>226297</th>\n",
       "      <td>2023-12-31</td>\n",
       "      <td>00</td>\n",
       "      <td>2</td>\n",
       "      <td>0</td>\n",
       "      <td>3205</td>\n",
       "      <td>267.66</td>\n",
       "      <td>NaN</td>\n",
       "      <td>9880</td>\n",
       "      <td>B</td>\n",
       "      <td>-56.6</td>\n",
       "      <td>...</td>\n",
       "      <td>3.1</td>\n",
       "      <td>17.5</td>\n",
       "      <td>29.0</td>\n",
       "      <td>216.55</td>\n",
       "      <td>9914.725524</td>\n",
       "      <td>123.503063</td>\n",
       "      <td>32414.69920</td>\n",
       "      <td>2023</td>\n",
       "      <td>12</td>\n",
       "      <td>31</td>\n",
       "    </tr>\n",
       "    <tr>\n",
       "      <th>226298</th>\n",
       "      <td>2023-12-31</td>\n",
       "      <td>00</td>\n",
       "      <td>2</td>\n",
       "      <td>0</td>\n",
       "      <td>3247</td>\n",
       "      <td>260.78</td>\n",
       "      <td>NaN</td>\n",
       "      <td>10044</td>\n",
       "      <td>B</td>\n",
       "      <td>-57.4</td>\n",
       "      <td>...</td>\n",
       "      <td>2.9</td>\n",
       "      <td>18.0</td>\n",
       "      <td>27.7</td>\n",
       "      <td>215.75</td>\n",
       "      <td>10084.723476</td>\n",
       "      <td>126.803567</td>\n",
       "      <td>32952.75696</td>\n",
       "      <td>2023</td>\n",
       "      <td>12</td>\n",
       "      <td>31</td>\n",
       "    </tr>\n",
       "    <tr>\n",
       "      <th>226299</th>\n",
       "      <td>2023-12-31</td>\n",
       "      <td>00</td>\n",
       "      <td>2</td>\n",
       "      <td>2</td>\n",
       "      <td>3258</td>\n",
       "      <td>258.99</td>\n",
       "      <td>NaN</td>\n",
       "      <td>10088</td>\n",
       "      <td>B</td>\n",
       "      <td>-57.5</td>\n",
       "      <td>...</td>\n",
       "      <td>3.1</td>\n",
       "      <td>18.2</td>\n",
       "      <td>27.2</td>\n",
       "      <td>215.65</td>\n",
       "      <td>10129.547304</td>\n",
       "      <td>123.522931</td>\n",
       "      <td>33097.11392</td>\n",
       "      <td>2023</td>\n",
       "      <td>12</td>\n",
       "      <td>31</td>\n",
       "    </tr>\n",
       "    <tr>\n",
       "      <th>226300</th>\n",
       "      <td>2023-12-31</td>\n",
       "      <td>00</td>\n",
       "      <td>1</td>\n",
       "      <td>0</td>\n",
       "      <td>3400</td>\n",
       "      <td>250.00</td>\n",
       "      <td>NaN</td>\n",
       "      <td>10311</td>\n",
       "      <td>B</td>\n",
       "      <td>-56.8</td>\n",
       "      <td>...</td>\n",
       "      <td>4.4</td>\n",
       "      <td>18.6</td>\n",
       "      <td>22.0</td>\n",
       "      <td>216.35</td>\n",
       "      <td>10358.537791</td>\n",
       "      <td>104.251720</td>\n",
       "      <td>33828.74124</td>\n",
       "      <td>2023</td>\n",
       "      <td>12</td>\n",
       "      <td>31</td>\n",
       "    </tr>\n",
       "    <tr>\n",
       "      <th>226301</th>\n",
       "      <td>2023-12-31</td>\n",
       "      <td>00</td>\n",
       "      <td>2</td>\n",
       "      <td>0</td>\n",
       "      <td>3405</td>\n",
       "      <td>249.25</td>\n",
       "      <td>NaN</td>\n",
       "      <td>10330</td>\n",
       "      <td>B</td>\n",
       "      <td>-56.8</td>\n",
       "      <td>...</td>\n",
       "      <td>4.4</td>\n",
       "      <td>18.6</td>\n",
       "      <td>21.6</td>\n",
       "      <td>216.35</td>\n",
       "      <td>10377.941316</td>\n",
       "      <td>103.315888</td>\n",
       "      <td>33891.07720</td>\n",
       "      <td>2023</td>\n",
       "      <td>12</td>\n",
       "      <td>31</td>\n",
       "    </tr>\n",
       "  </tbody>\n",
       "</table>\n",
       "<p>2188 rows × 22 columns</p>\n",
       "</div>"
      ],
      "text/plain": [
       "             Date Hour LVLTYP1 LVLTYP2 ETIME   PRESS PFLAG    GPH ZFLAG  TEMP  \\\n",
       "573    2022-01-02   12       2       0  2525  288.88   NaN   9269     B -50.9   \n",
       "1662   2022-01-05   12       2       0  2640  274.97   NaN   9492     B -53.6   \n",
       "1663   2022-01-05   12       2       2  2719  263.97   NaN   9753     B -55.5   \n",
       "1839   2022-01-06   00       2       0  2849  251.69   NaN  10216     B -56.1   \n",
       "1840   2022-01-06   00       1       0  2858  250.00   NaN  10259     B -56.4   \n",
       "...           ...  ...     ...     ...   ...     ...   ...    ...   ...   ...   \n",
       "226297 2023-12-31   00       2       0  3205  267.66   NaN   9880     B -56.6   \n",
       "226298 2023-12-31   00       2       0  3247  260.78   NaN  10044     B -57.4   \n",
       "226299 2023-12-31   00       2       2  3258  258.99   NaN  10088     B -57.5   \n",
       "226300 2023-12-31   00       1       0  3400  250.00   NaN  10311     B -56.8   \n",
       "226301 2023-12-31   00       2       0  3405  249.25   NaN  10330     B -56.8   \n",
       "\n",
       "        ... DPDP  WDIR  WSPD  TEMP_K     PRESS_ALT      RH_ice       GPH_ft  \\\n",
       "573     ...  4.5  26.0  50.7  222.25   9411.783688  105.113027  30410.10596   \n",
       "1662    ...  3.8  31.3  76.2  219.55   9737.936381  115.728558  31141.73328   \n",
       "1663    ...  4.2  31.0  71.7  217.65  10005.455817  110.109543  31998.03252   \n",
       "1839    ...  3.0  31.3  70.8  217.05  10314.987349  127.990276  33517.06144   \n",
       "1840    ...  3.2  31.3  71.0  216.75  10358.537791  126.273221  33658.13756   \n",
       "...     ...  ...   ...   ...     ...           ...         ...          ...   \n",
       "226297  ...  3.1  17.5  29.0  216.55   9914.725524  123.503063  32414.69920   \n",
       "226298  ...  2.9  18.0  27.7  215.75  10084.723476  126.803567  32952.75696   \n",
       "226299  ...  3.1  18.2  27.2  215.65  10129.547304  123.522931  33097.11392   \n",
       "226300  ...  4.4  18.6  22.0  216.35  10358.537791  104.251720  33828.74124   \n",
       "226301  ...  4.4  18.6  21.6  216.35  10377.941316  103.315888  33891.07720   \n",
       "\n",
       "        Year  Month Day  \n",
       "573     2022     01  02  \n",
       "1662    2022     01  05  \n",
       "1663    2022     01  05  \n",
       "1839    2022     01  06  \n",
       "1840    2022     01  06  \n",
       "...      ...    ...  ..  \n",
       "226297  2023     12  31  \n",
       "226298  2023     12  31  \n",
       "226299  2023     12  31  \n",
       "226300  2023     12  31  \n",
       "226301  2023     12  31  \n",
       "\n",
       "[2188 rows x 22 columns]"
      ]
     },
     "execution_count": 28,
     "metadata": {},
     "output_type": "execute_result"
    }
   ],
   "source": [
    "df[(df['GPH_ft']>= 30000) & (df['GPH_ft'] < 43000) & (df['TEMP']<= -40) & (df['RH_ice'] >= 100)]"
   ]
  },
  {
   "cell_type": "code",
   "execution_count": 29,
   "id": "1efea751",
   "metadata": {},
   "outputs": [
    {
     "data": {
      "image/png": "[encoded data removed]",
      "text/plain": [
       "<Figure size 432x288 with 2 Axes>"
      ]
     },
     "metadata": {
      "needs_background": "light"
     },
     "output_type": "display_data"
    }
   ],
   "source": [
    "#df.plot(x='GPH_ft', y='TEMP', kind='scatter')\n",
    "plt.scatter(df['GPH_ft'], df['TEMP'], c=df['TEMP'], cmap='plasma')\n",
    "plt.colorbar(label='Temoerature')\n",
    "plt.xlabel('Geopotential Height in Feet')\n",
    "plt.ylabel('Temperature in Celsius')\n",
    "plt.show()"
   ]
  },
  {
   "cell_type": "code",
   "execution_count": 30,
   "id": "fcc709ac",
   "metadata": {},
   "outputs": [
    {
     "data": {
      "image/png": "[encoded data removed]",
      "text/plain": [
       "<Figure size 432x288 with 1 Axes>"
      ]
     },
     "metadata": {
      "needs_background": "light"
     },
     "output_type": "display_data"
    }
   ],
   "source": [
    "#df.plot(x='GPH_ft', y='PRESS_ALT', kind='scatter')\n",
    "plt.scatter(df['GPH_ft'], df['PRESS_ALT'], c=df['TEMP'], cmap='viridis')\n",
    "plt.show()"
   ]
  },
  {
   "cell_type": "code",
   "execution_count": 44,
   "id": "18cbc723",
   "metadata": {},
   "outputs": [
    {
     "data": {
      "text/plain": [
       "<AxesSubplot:xlabel='GPH_ft', ylabel='RH'>"
      ]
     },
     "execution_count": 44,
     "metadata": {},
     "output_type": "execute_result"
    },
    {
     "data": {
      "image/png": "[encoded data removed]",
      "text/plain": [
       "<Figure size 432x288 with 1 Axes>"
      ]
     },
     "metadata": {
      "needs_background": "light"
     },
     "output_type": "display_data"
    }
   ],
   "source": [
    "df.plot(x='GPH_ft', y='RH', kind='scatter')"
   ]
  },
  {
   "cell_type": "code",
   "execution_count": 45,
   "id": "bdd265ba",
   "metadata": {},
   "outputs": [
    {
     "data": {
      "text/plain": [
       "<AxesSubplot:xlabel='GPH_ft', ylabel='RH_ice'>"
      ]
     },
     "execution_count": 45,
     "metadata": {},
     "output_type": "execute_result"
    },
    {
     "data": {
      "image/png": "[encoded data removed]",
      "text/plain": [
       "<Figure size 432x288 with 1 Axes>"
      ]
     },
     "metadata": {
      "needs_background": "light"
     },
     "output_type": "display_data"
    }
   ],
   "source": [
    "df.plot(x='GPH_ft', y='RH_ice', kind='scatter')"
   ]
  },
  {
   "cell_type": "code",
   "execution_count": 53,
   "id": "499cce44",
   "metadata": {},
   "outputs": [],
   "source": [
    "bins = pd.cut(df['GPH_ft'], bins=range(0, int(df['GPH_ft'].max()) + 10000, 10000), right=False)\n"
   ]
  },
  {
   "cell_type": "code",
   "execution_count": 55,
   "id": "a7b3a2dc",
   "metadata": {},
   "outputs": [],
   "source": [
    "result = df.groupby(bins)['TEMP'].mean().reset_index()"
   ]
  },
  {
   "cell_type": "code",
   "execution_count": 56,
   "id": "3dcc8fef",
   "metadata": {},
   "outputs": [
    {
     "data": {
      "text/html": [
       "<div>\n",
       "<style scoped>\n",
       "    .dataframe tbody tr th:only-of-type {\n",
       "        vertical-align: middle;\n",
       "    }\n",
       "\n",
       "    .dataframe tbody tr th {\n",
       "        vertical-align: top;\n",
       "    }\n",
       "\n",
       "    .dataframe thead th {\n",
       "        text-align: right;\n",
       "    }\n",
       "</style>\n",
       "<table border=\"1\" class=\"dataframe\">\n",
       "  <thead>\n",
       "    <tr style=\"text-align: right;\">\n",
       "      <th></th>\n",
       "      <th>GPH_ft</th>\n",
       "      <th>TEMP</th>\n",
       "    </tr>\n",
       "  </thead>\n",
       "  <tbody>\n",
       "    <tr>\n",
       "      <th>0</th>\n",
       "      <td>[0, 10000)</td>\n",
       "      <td>4.629709</td>\n",
       "    </tr>\n",
       "    <tr>\n",
       "      <th>1</th>\n",
       "      <td>[10000, 20000)</td>\n",
       "      <td>-11.359591</td>\n",
       "    </tr>\n",
       "    <tr>\n",
       "      <th>2</th>\n",
       "      <td>[20000, 30000)</td>\n",
       "      <td>-33.447929</td>\n",
       "    </tr>\n",
       "    <tr>\n",
       "      <th>3</th>\n",
       "      <td>[30000, 40000)</td>\n",
       "      <td>-52.219522</td>\n",
       "    </tr>\n",
       "    <tr>\n",
       "      <th>4</th>\n",
       "      <td>[40000, 50000)</td>\n",
       "      <td>-55.327612</td>\n",
       "    </tr>\n",
       "    <tr>\n",
       "      <th>5</th>\n",
       "      <td>[50000, 60000)</td>\n",
       "      <td>-56.962163</td>\n",
       "    </tr>\n",
       "    <tr>\n",
       "      <th>6</th>\n",
       "      <td>[60000, 70000)</td>\n",
       "      <td>-56.922622</td>\n",
       "    </tr>\n",
       "    <tr>\n",
       "      <th>7</th>\n",
       "      <td>[70000, 80000)</td>\n",
       "      <td>-55.536110</td>\n",
       "    </tr>\n",
       "    <tr>\n",
       "      <th>8</th>\n",
       "      <td>[80000, 90000)</td>\n",
       "      <td>-53.449083</td>\n",
       "    </tr>\n",
       "    <tr>\n",
       "      <th>9</th>\n",
       "      <td>[90000, 100000)</td>\n",
       "      <td>-50.466814</td>\n",
       "    </tr>\n",
       "    <tr>\n",
       "      <th>10</th>\n",
       "      <td>[100000, 110000)</td>\n",
       "      <td>-46.279485</td>\n",
       "    </tr>\n",
       "    <tr>\n",
       "      <th>11</th>\n",
       "      <td>[110000, 120000)</td>\n",
       "      <td>-41.620439</td>\n",
       "    </tr>\n",
       "    <tr>\n",
       "      <th>12</th>\n",
       "      <td>[120000, 130000)</td>\n",
       "      <td>-44.305000</td>\n",
       "    </tr>\n",
       "  </tbody>\n",
       "</table>\n",
       "</div>"
      ],
      "text/plain": [
       "              GPH_ft       TEMP\n",
       "0         [0, 10000)   4.629709\n",
       "1     [10000, 20000) -11.359591\n",
       "2     [20000, 30000) -33.447929\n",
       "3     [30000, 40000) -52.219522\n",
       "4     [40000, 50000) -55.327612\n",
       "5     [50000, 60000) -56.962163\n",
       "6     [60000, 70000) -56.922622\n",
       "7     [70000, 80000) -55.536110\n",
       "8     [80000, 90000) -53.449083\n",
       "9    [90000, 100000) -50.466814\n",
       "10  [100000, 110000) -46.279485\n",
       "11  [110000, 120000) -41.620439\n",
       "12  [120000, 130000) -44.305000"
      ]
     },
     "execution_count": 56,
     "metadata": {},
     "output_type": "execute_result"
    }
   ],
   "source": [
    "result"
   ]
  },
  {
   "cell_type": "code",
   "execution_count": 58,
   "id": "e5b4c90c",
   "metadata": {},
   "outputs": [
    {
     "data": {
      "text/plain": [
       "<AxesSubplot:xlabel='GPH_ft'>"
      ]
     },
     "execution_count": 58,
     "metadata": {},
     "output_type": "execute_result"
    },
    {
     "data": {
      "image/png": "[encoded data removed]",
      "text/plain": [
       "<Figure size 432x288 with 1 Axes>"
      ]
     },
     "metadata": {
      "needs_background": "light"
     },
     "output_type": "display_data"
    }
   ],
   "source": [
    "result.plot(x='GPH_ft', y='TEMP', kind='bar')"
   ]
  },
  {
   "cell_type": "code",
   "execution_count": 31,
   "id": "f8b898a3",
   "metadata": {},
   "outputs": [],
   "source": [
    "issr_df = df[(df['TEMP']<= -40) & (df['RH_ice'] >= 100)]"
   ]
  },
  {
   "cell_type": "markdown",
   "id": "f09e6134",
   "metadata": {},
   "source": [
    "### Queries"
   ]
  },
  {
   "cell_type": "code",
   "execution_count": 32,
   "id": "ed7fb2ff",
   "metadata": {},
   "outputs": [
    {
     "data": {
      "text/plain": [
       "count     8116.000000\n",
       "mean     22913.526024\n",
       "std      11259.743556\n",
       "min          0.000000\n",
       "25%      14001.804910\n",
       "50%      23894.357720\n",
       "75%      32369.587650\n",
       "max      57208.007080\n",
       "Name: GPH_ft, dtype: float64"
      ]
     },
     "execution_count": 32,
     "metadata": {},
     "output_type": "execute_result"
    }
   ],
   "source": [
    "df[df['RH_ice']>=100].GPH_ft.describe()"
   ]
  },
  {
   "cell_type": "code",
   "execution_count": 73,
   "id": "adbe427b",
   "metadata": {},
   "outputs": [],
   "source": [
    "sample = df[(df['Date']== '2023-01-05')]\n",
    "sample = sample[(sample['GPH_ft']< 43000)& (sample['RH_ice'] >= 100 )]"
   ]
  },
  {
   "cell_type": "code",
   "execution_count": 74,
   "id": "c2c3b6e1",
   "metadata": {},
   "outputs": [
    {
     "data": {
      "image/png": "[encoded data removed]",
      "text/plain": [
       "<Figure size 432x288 with 2 Axes>"
      ]
     },
     "metadata": {
      "needs_background": "light"
     },
     "output_type": "display_data"
    }
   ],
   "source": [
    "plt.scatter(sample['RH_ice'], sample['PRESS_ALT'], c=sample['RH_ice'], cmap='plasma')\n",
    "plt.colorbar(label='')\n",
    "plt.xlabel('RH_ice')\n",
    "plt.ylabel('Pressure Altitude')\n",
    "plt.show()"
   ]
  },
  {
   "cell_type": "code",
   "execution_count": 33,
   "id": "b8f4f043",
   "metadata": {},
   "outputs": [
    {
     "data": {
      "image/png": "[encoded data removed]",
      "text/plain": [
       "<Figure size 432x288 with 2 Axes>"
      ]
     },
     "metadata": {
      "needs_background": "light"
     },
     "output_type": "display_data"
    }
   ],
   "source": [
    "plt.scatter(df['TEMP'], df['PRESS_ALT'], c=df['TEMP'], cmap='plasma')\n",
    "plt.colorbar(label='Temperature')\n",
    "plt.xlabel('Temperature')\n",
    "plt.ylabel('Pressure Altitude')\n",
    "plt.show()"
   ]
  },
  {
   "cell_type": "code",
   "execution_count": 34,
   "id": "2ddfe44e",
   "metadata": {},
   "outputs": [
    {
     "data": {
      "image/png": "[encoded data removed]",
      "text/plain": [
       "<Figure size 432x288 with 2 Axes>"
      ]
     },
     "metadata": {
      "needs_background": "light"
     },
     "output_type": "display_data"
    }
   ],
   "source": [
    "plt.scatter(df['RH_ice'], df['PRESS_ALT'],  c=df['RH_ice'], cmap='plasma')\n",
    "plt.colorbar(label='RH ice')\n",
    "plt.xlabel('RH ice')\n",
    "plt.ylabel('Altitude')\n",
    "plt.show()"
   ]
  },
  {
   "cell_type": "code",
   "execution_count": null,
   "id": "fea5d594",
   "metadata": {},
   "outputs": [],
   "source": [
    "# plt.scatter(df['RH_ice'], df['PRESS_ALT'],  c=df['RH_ice'], cmap='plasma')\n",
    "# plt.colorbar(label='RH ice')\n",
    "# plt.xlabel('RH ice')\n",
    "# plt.ylabel('Altitude')\n",
    "# plt.show()"
   ]
  },
  {
   "cell_type": "markdown",
   "id": "6c9a1ae7",
   "metadata": {},
   "source": [
    "## ISSR days\n",
    "#ISS conditions were present in the region X% days,\n",
    "\n",
    "#Time of Day\n",
    "\n",
    "#ISSR days @ midnight\n",
    "\n",
    "#ISSR days @ noon\n"
   ]
  },
  {
   "cell_type": "code",
   "execution_count": 51,
   "id": "a81a3f37",
   "metadata": {},
   "outputs": [
    {
     "data": {
      "text/plain": [
       "730"
      ]
     },
     "execution_count": 51,
     "metadata": {},
     "output_type": "execute_result"
    }
   ],
   "source": [
    "df['Date'].nunique()"
   ]
  },
  {
   "cell_type": "code",
   "execution_count": 32,
   "id": "683b6244",
   "metadata": {},
   "outputs": [
    {
     "data": {
      "text/plain": [
       "406"
      ]
     },
     "execution_count": 32,
     "metadata": {},
     "output_type": "execute_result"
    }
   ],
   "source": [
    "issr_df['Date'].nunique()"
   ]
  },
  {
   "cell_type": "code",
   "execution_count": 33,
   "id": "34287480",
   "metadata": {},
   "outputs": [
    {
     "data": {
      "text/plain": [
       "55.61643835616439"
      ]
     },
     "execution_count": 33,
     "metadata": {},
     "output_type": "execute_result"
    }
   ],
   "source": [
    "(issr_df['Date'].nunique()/df['Date'].nunique())*100"
   ]
  },
  {
   "cell_type": "code",
   "execution_count": 34,
   "id": "a8bb62d9",
   "metadata": {},
   "outputs": [
    {
     "data": {
      "text/plain": [
       "163"
      ]
     },
     "execution_count": 34,
     "metadata": {},
     "output_type": "execute_result"
    }
   ],
   "source": [
    "issr_df[issr_df['Hour']=='00']['Date'].nunique()"
   ]
  },
  {
   "cell_type": "code",
   "execution_count": 52,
   "id": "33aa5675",
   "metadata": {},
   "outputs": [
    {
     "data": {
      "text/plain": [
       "0.2232876712328767"
      ]
     },
     "execution_count": 52,
     "metadata": {},
     "output_type": "execute_result"
    }
   ],
   "source": [
    "163/730"
   ]
  },
  {
   "cell_type": "code",
   "execution_count": 35,
   "id": "8080621f",
   "metadata": {},
   "outputs": [
    {
     "data": {
      "text/plain": [
       "333"
      ]
     },
     "execution_count": 35,
     "metadata": {},
     "output_type": "execute_result"
    }
   ],
   "source": [
    "issr_df[issr_df['Hour']=='12']['Date'].nunique()"
   ]
  },
  {
   "cell_type": "code",
   "execution_count": 53,
   "id": "38b8858c",
   "metadata": {},
   "outputs": [
    {
     "data": {
      "text/plain": [
       "0.45616438356164385"
      ]
     },
     "execution_count": 53,
     "metadata": {},
     "output_type": "execute_result"
    }
   ],
   "source": [
    "333/730"
   ]
  },
  {
   "cell_type": "code",
   "execution_count": 48,
   "id": "5841bfb8",
   "metadata": {},
   "outputs": [
    {
     "name": "stdout",
     "output_type": "stream",
     "text": [
      "1   18\n",
      "2   23\n",
      "3   24\n",
      "4   25\n",
      "5   20\n",
      "6   19\n",
      "7   5\n",
      "8   14\n",
      "9   21\n",
      "10   18\n",
      "11   23\n",
      "12   26\n"
     ]
    }
   ],
   "source": [
    "#Month\n",
    "\n",
    "#ISSR days in Jan\n",
    "months = ['Jan', 'Feb', 'Mar', 'Apr', 'May', 'Jun', 'Jul', 'Aug', 'Sep', 'Oct', 'Nov', 'Dec']\n",
    "obs = []\n",
    "for i in range(1,13):\n",
    "    obs.append(issr_df[(issr_df['Year']=='2023') & (issr_df['Month'].astype(int) == i)]['Date'].nunique())\n",
    "    print(i ,\" \" , obs[-1])\n"
   ]
  },
  {
   "cell_type": "code",
   "execution_count": 49,
   "id": "4bed3011",
   "metadata": {},
   "outputs": [
    {
     "data": {
      "text/plain": [
       "Text(0, 0.5, 'No of days of ISSR occurances in 2023')"
      ]
     },
     "execution_count": 49,
     "metadata": {},
     "output_type": "execute_result"
    },
    {
     "data": {
      "image/png": "[encoded data removed]",
      "text/plain": [
       "<Figure size 432x288 with 1 Axes>"
      ]
     },
     "metadata": {
      "needs_background": "light"
     },
     "output_type": "display_data"
    }
   ],
   "source": [
    "sns.barplot(x= months, y= obs)\n",
    "plt.xlabel('Months')\n",
    "plt.ylabel('No of days of ISSR occurances in 2023')"
   ]
  },
  {
   "cell_type": "code",
   "execution_count": 30,
   "id": "2fbdfcad",
   "metadata": {},
   "outputs": [],
   "source": [
    "#Contrail Vertical Depth (i.e. Ceiling-Floor) - what is depth \n",
    "# by day\n",
    "\n",
    "#also show with a histogram (x-axis = depth of ISSR, y-axis = count of days with ISSR)\n",
    "\n",
    "#Note: We want to be able to understand how the ISSR vertical depth fluctuates over time. Is it random or does it follow a pattern?"
   ]
  },
  {
   "cell_type": "code",
   "execution_count": 35,
   "id": "ea91a768",
   "metadata": {},
   "outputs": [
    {
     "data": {
      "text/plain": [
       "2024-01-19    37\n",
       "2024-01-31    34\n",
       "2023-05-28    32\n",
       "2023-10-22    30\n",
       "2023-12-05    29\n",
       "              ..\n",
       "2022-08-30     1\n",
       "2023-08-14     1\n",
       "2023-08-13     1\n",
       "2023-07-25     1\n",
       "2022-01-02     1\n",
       "Name: Date, Length: 355, dtype: int64"
      ]
     },
     "execution_count": 35,
     "metadata": {},
     "output_type": "execute_result"
    }
   ],
   "source": [
    "issr_df['Date'].value_counts()"
   ]
  },
  {
   "cell_type": "code",
   "execution_count": 46,
   "id": "3b5380a1",
   "metadata": {},
   "outputs": [
    {
     "name": "stdout",
     "output_type": "stream",
     "text": [
      "9888.451760000004\n",
      "9032.152520000003\n"
     ]
    }
   ],
   "source": [
    "vd = issr_df[(issr_df['Date']== '2023-01-19') & (issr_df['Hour']=='00')]['GPH_ft']\n",
    "print(vd.max()-vd.min())\n",
    "vd = issr_df[(issr_df['Date']== '2023-01-19') & (issr_df['Hour']=='12')]['GPH_ft']\n",
    "print(vd.max()-vd.min())"
   ]
  },
  {
   "cell_type": "code",
   "execution_count": 42,
   "id": "e290fa27",
   "metadata": {},
   "outputs": [],
   "source": [
    "max_depth = df.groupby(['Date', 'Hour']).agg({'GPH_ft': 'max'}).reset_index()\n",
    "min_depth = df.groupby(['Date', 'Hour']).agg({'GPH_ft': 'min'}).reset_index()"
   ]
  },
  {
   "cell_type": "code",
   "execution_count": null,
   "id": "1addc7a4",
   "metadata": {},
   "outputs": [],
   "source": []
  },
  {
   "cell_type": "code",
   "execution_count": 43,
   "id": "964b374f",
   "metadata": {},
   "outputs": [
    {
     "ename": "KeyError",
     "evalue": "'min'",
     "output_type": "error",
     "traceback": [
      "\u001b[0;31m---------------------------------------------------------------------------\u001b[0m",
      "\u001b[0;31mKeyError\u001b[0m                                  Traceback (most recent call last)",
      "File \u001b[0;32m/opt/sw/spack/apps/linux-rhel8-x86_64_v2/gcc-10.3.0/python-3.9.9-jh/lib/python3.9/site-packages/pandas/core/indexes/base.py:3361\u001b[0m, in \u001b[0;36mIndex.get_loc\u001b[0;34m(self, key, method, tolerance)\u001b[0m\n\u001b[1;32m   3360\u001b[0m \u001b[38;5;28;01mtry\u001b[39;00m:\n\u001b[0;32m-> 3361\u001b[0m     \u001b[38;5;28;01mreturn\u001b[39;00m \u001b[38;5;28;43mself\u001b[39;49m\u001b[38;5;241;43m.\u001b[39;49m\u001b[43m_engine\u001b[49m\u001b[38;5;241;43m.\u001b[39;49m\u001b[43mget_loc\u001b[49m\u001b[43m(\u001b[49m\u001b[43mcasted_key\u001b[49m\u001b[43m)\u001b[49m\n\u001b[1;32m   3362\u001b[0m \u001b[38;5;28;01mexcept\u001b[39;00m \u001b[38;5;167;01mKeyError\u001b[39;00m \u001b[38;5;28;01mas\u001b[39;00m err:\n",
      "File \u001b[0;32m/opt/sw/spack/apps/linux-rhel8-x86_64_v2/gcc-10.3.0/python-3.9.9-jh/lib/python3.9/site-packages/pandas/_libs/index.pyx:76\u001b[0m, in \u001b[0;36mpandas._libs.index.IndexEngine.get_loc\u001b[0;34m()\u001b[0m\n",
      "File \u001b[0;32m/opt/sw/spack/apps/linux-rhel8-x86_64_v2/gcc-10.3.0/python-3.9.9-jh/lib/python3.9/site-packages/pandas/_libs/index.pyx:108\u001b[0m, in \u001b[0;36mpandas._libs.index.IndexEngine.get_loc\u001b[0;34m()\u001b[0m\n",
      "File \u001b[0;32mpandas/_libs/hashtable_class_helper.pxi:5198\u001b[0m, in \u001b[0;36mpandas._libs.hashtable.PyObjectHashTable.get_item\u001b[0;34m()\u001b[0m\n",
      "File \u001b[0;32mpandas/_libs/hashtable_class_helper.pxi:5206\u001b[0m, in \u001b[0;36mpandas._libs.hashtable.PyObjectHashTable.get_item\u001b[0;34m()\u001b[0m\n",
      "\u001b[0;31mKeyError\u001b[0m: 'min'",
      "\nThe above exception was the direct cause of the following exception:\n",
      "\u001b[0;31mKeyError\u001b[0m                                  Traceback (most recent call last)",
      "Input \u001b[0;32mIn [43]\u001b[0m, in \u001b[0;36m<cell line: 2>\u001b[0;34m()\u001b[0m\n\u001b[1;32m      1\u001b[0m depth \u001b[38;5;241m=\u001b[39m max_depth\n\u001b[0;32m----> 2\u001b[0m depth[\u001b[38;5;124m'\u001b[39m\u001b[38;5;124mmin\u001b[39m\u001b[38;5;124m'\u001b[39m] \u001b[38;5;241m=\u001b[39m \u001b[43mmin_depth\u001b[49m\u001b[43m[\u001b[49m\u001b[38;5;124;43m'\u001b[39;49m\u001b[38;5;124;43mmin\u001b[39;49m\u001b[38;5;124;43m'\u001b[39;49m\u001b[43m]\u001b[49m\n\u001b[1;32m      3\u001b[0m depth\n",
      "File \u001b[0;32m/opt/sw/spack/apps/linux-rhel8-x86_64_v2/gcc-10.3.0/python-3.9.9-jh/lib/python3.9/site-packages/pandas/core/frame.py:3458\u001b[0m, in \u001b[0;36mDataFrame.__getitem__\u001b[0;34m(self, key)\u001b[0m\n\u001b[1;32m   3456\u001b[0m \u001b[38;5;28;01mif\u001b[39;00m \u001b[38;5;28mself\u001b[39m\u001b[38;5;241m.\u001b[39mcolumns\u001b[38;5;241m.\u001b[39mnlevels \u001b[38;5;241m>\u001b[39m \u001b[38;5;241m1\u001b[39m:\n\u001b[1;32m   3457\u001b[0m     \u001b[38;5;28;01mreturn\u001b[39;00m \u001b[38;5;28mself\u001b[39m\u001b[38;5;241m.\u001b[39m_getitem_multilevel(key)\n\u001b[0;32m-> 3458\u001b[0m indexer \u001b[38;5;241m=\u001b[39m \u001b[38;5;28;43mself\u001b[39;49m\u001b[38;5;241;43m.\u001b[39;49m\u001b[43mcolumns\u001b[49m\u001b[38;5;241;43m.\u001b[39;49m\u001b[43mget_loc\u001b[49m\u001b[43m(\u001b[49m\u001b[43mkey\u001b[49m\u001b[43m)\u001b[49m\n\u001b[1;32m   3459\u001b[0m \u001b[38;5;28;01mif\u001b[39;00m is_integer(indexer):\n\u001b[1;32m   3460\u001b[0m     indexer \u001b[38;5;241m=\u001b[39m [indexer]\n",
      "File \u001b[0;32m/opt/sw/spack/apps/linux-rhel8-x86_64_v2/gcc-10.3.0/python-3.9.9-jh/lib/python3.9/site-packages/pandas/core/indexes/base.py:3363\u001b[0m, in \u001b[0;36mIndex.get_loc\u001b[0;34m(self, key, method, tolerance)\u001b[0m\n\u001b[1;32m   3361\u001b[0m         \u001b[38;5;28;01mreturn\u001b[39;00m \u001b[38;5;28mself\u001b[39m\u001b[38;5;241m.\u001b[39m_engine\u001b[38;5;241m.\u001b[39mget_loc(casted_key)\n\u001b[1;32m   3362\u001b[0m     \u001b[38;5;28;01mexcept\u001b[39;00m \u001b[38;5;167;01mKeyError\u001b[39;00m \u001b[38;5;28;01mas\u001b[39;00m err:\n\u001b[0;32m-> 3363\u001b[0m         \u001b[38;5;28;01mraise\u001b[39;00m \u001b[38;5;167;01mKeyError\u001b[39;00m(key) \u001b[38;5;28;01mfrom\u001b[39;00m \u001b[38;5;21;01merr\u001b[39;00m\n\u001b[1;32m   3365\u001b[0m \u001b[38;5;28;01mif\u001b[39;00m is_scalar(key) \u001b[38;5;129;01mand\u001b[39;00m isna(key) \u001b[38;5;129;01mand\u001b[39;00m \u001b[38;5;129;01mnot\u001b[39;00m \u001b[38;5;28mself\u001b[39m\u001b[38;5;241m.\u001b[39mhasnans:\n\u001b[1;32m   3366\u001b[0m     \u001b[38;5;28;01mraise\u001b[39;00m \u001b[38;5;167;01mKeyError\u001b[39;00m(key)\n",
      "\u001b[0;31mKeyError\u001b[0m: 'min'"
     ]
    }
   ],
   "source": [
    "depth = max_depth\n",
    "depth['min'] = min_depth['min']\n",
    "depth"
   ]
  },
  {
   "cell_type": "code",
   "execution_count": null,
   "id": "e2ecc402",
   "metadata": {},
   "outputs": [],
   "source": []
  },
  {
   "cell_type": "code",
   "execution_count": 31,
   "id": "5cf0b99e",
   "metadata": {},
   "outputs": [],
   "source": [
    "#Contrail Depth by Altitude - what altitude range includes a contrail\n",
    "\n",
    "# by day (x-axis = day of year, y-axis = altitude. Show floor and ceiling\n",
    "\n",
    "# also show with a histogram (x-axis = Altitude from FL300 to FL430, y-axis = count of days with ISSR)\n",
    "\n",
    "# Note: We want oto be able to understand how the floor and ceiling fluctuate over time. Is it random or does it follow a pattern?"
   ]
  },
  {
   "cell_type": "code",
   "execution_count": null,
   "id": "e794d60d",
   "metadata": {},
   "outputs": [],
   "source": []
  }
 ],
 "metadata": {
  "kernelspec": {
   "display_name": "Python 3 (ORC)",
   "language": "python",
   "name": "sys_python3"
  },
  "language_info": {
   "codemirror_mode": {
    "name": "ipython",
    "version": 3
   },
   "file_extension": ".py",
   "mimetype": "text/x-python",
   "name": "python",
   "nbconvert_exporter": "python",
   "pygments_lexer": "ipython3",
   "version": "3.9.9"
  }
 },
 "nbformat": 4,
 "nbformat_minor": 5
}
